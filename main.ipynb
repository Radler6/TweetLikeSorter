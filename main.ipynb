{
 "cells": [
  {
   "cell_type": "code",
   "execution_count": null,
   "metadata": {},
   "outputs": [],
   "source": [
    "\n",
    "import pandas as pd\n",
    "import snscrape.modules.twitter as sntwitter\n",
    "print(\"Welcome To The Tweet Like Sorter\")"
   ]
  },
  {
   "cell_type": "code",
   "execution_count": null,
   "metadata": {},
   "outputs": [],
   "source": [
    "print(\"A csv file will be written in the current directory\")\n",
    "query = str(input(\"Insert user to sort: \")).lower()\n",
    "# query = \"elonmusk\"\n",
    "scraper = sntwitter.TwitterUserScraper(query)\n"
   ]
  },
  {
   "cell_type": "code",
   "execution_count": null,
   "metadata": {},
   "outputs": [],
   "source": [
    "\n",
    "tweets = []\n",
    "i = 0\n",
    "maxrange = int(input(\"Insert Max Number Of Tweets to find: \"))\n",
    "for tweet in scraper.get_items():\n",
    "    if query in tweet.user.username:\n",
    "        data = [\n",
    "            tweet.user.username,  tweet.id, tweet.likeCount,  tweet.date,  tweet.content, tweet.url]\n",
    "        \n",
    "        tweets.append(data)\n",
    "        i += 1\n",
    "        print(f\"I have found {i}/{maxrange} Tweets\" )\n",
    "            \n",
    "\n",
    "\n",
    "    if i == maxrange:\n",
    "        tweets.pop()\n",
    "        break"
   ]
  },
  {
   "cell_type": "code",
   "execution_count": null,
   "metadata": {},
   "outputs": [],
   "source": [
    "df = pd.DataFrame(tweets)\n",
    "df.columns = [\"Username\",\"Id\",\"Likes\",\"Date\",\"Content\",\"URL\"]\n",
    "\n",
    "sortedf = df.sort_values(\"Likes\",ascending=False)\n",
    "sortedf.to_csv(f\"{query}-last-{maxrange}-tweets ordered by likes.csv\")\n",
    "\n",
    "print(\"Csv Written!!\")\n",
    "first = sortedf['URL'].iloc[:1]\n",
    "print(f\"Here's the Link to The Most liked Tweet from the last {maxrange} tweets\")\n",
    "print(str(first.values))"
   ]
  }
 ],
 "metadata": {
  "kernelspec": {
   "display_name": "Python 3",
   "language": "python",
   "name": "python3"
  },
  "language_info": {
   "codemirror_mode": {
    "name": "ipython",
    "version": 3
   },
   "file_extension": ".py",
   "mimetype": "text/x-python",
   "name": "python",
   "nbconvert_exporter": "python",
   "pygments_lexer": "ipython3",
   "version": "3.10.6 (main, Nov 14 2022, 16:10:14) [GCC 11.3.0]"
  },
  "orig_nbformat": 4,
  "vscode": {
   "interpreter": {
    "hash": "916dbcbb3f70747c44a77c7bcd40155683ae19c65e1c03b4aa3499c5328201f1"
   }
  }
 },
 "nbformat": 4,
 "nbformat_minor": 2
}
